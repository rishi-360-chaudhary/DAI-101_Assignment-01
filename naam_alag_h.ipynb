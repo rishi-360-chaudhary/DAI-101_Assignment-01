{
 "cells": [
  {
   "cell_type": "code",
   "execution_count": null,
   "id": "91174f6f-e57f-4c22-a453-a599450f231e",
   "metadata": {},
   "outputs": [],
   "source": [
    "#Task 2\n",
    "\n",
    "For this week, you can find some imbalanced dataset with fewer classes and ask them to apply oversampling or undersampling techniques\n",
    "(random over and undersampling, tomek link, smot and class weighing). Then ask them to train the model on balanced dataset and \n",
    "find the performance matrices (accuracy, F1 score and AUC) and compare which technique is improving model performance. \n",
    "Find the dataset on GitHub or kaggle"
   ]
  },
  {
   "cell_type": "code",
   "execution_count": 19,
   "id": "e888c275-35d2-451b-ac7a-7e217111d500",
   "metadata": {},
   "outputs": [
    {
     "name": "stdout",
     "output_type": "stream",
     "text": [
      "Collecting imblearn\n",
      "  Downloading imblearn-0.0-py2.py3-none-any.whl.metadata (355 bytes)\n",
      "Collecting imbalanced-learn (from imblearn)\n",
      "  Downloading imbalanced_learn-0.12.4-py3-none-any.whl.metadata (8.3 kB)\n",
      "Requirement already satisfied: numpy>=1.17.3 in c:\\users\\rishi chaudhary\\appdata\\local\\programs\\python\\python312\\lib\\site-packages (from imbalanced-learn->imblearn) (1.26.3)\n",
      "Requirement already satisfied: scipy>=1.5.0 in c:\\users\\rishi chaudhary\\appdata\\local\\programs\\python\\python312\\lib\\site-packages (from imbalanced-learn->imblearn) (1.14.1)\n",
      "Requirement already satisfied: scikit-learn>=1.0.2 in c:\\users\\rishi chaudhary\\appdata\\local\\programs\\python\\python312\\lib\\site-packages (from imbalanced-learn->imblearn) (1.5.2)\n",
      "Requirement already satisfied: joblib>=1.1.1 in c:\\users\\rishi chaudhary\\appdata\\local\\programs\\python\\python312\\lib\\site-packages (from imbalanced-learn->imblearn) (1.4.2)\n",
      "Requirement already satisfied: threadpoolctl>=2.0.0 in c:\\users\\rishi chaudhary\\appdata\\local\\programs\\python\\python312\\lib\\site-packages (from imbalanced-learn->imblearn) (3.5.0)\n",
      "Downloading imblearn-0.0-py2.py3-none-any.whl (1.9 kB)\n",
      "Downloading imbalanced_learn-0.12.4-py3-none-any.whl (258 kB)\n",
      "Installing collected packages: imbalanced-learn, imblearn\n",
      "Successfully installed imbalanced-learn-0.12.4 imblearn-0.0\n"
     ]
    }
   ],
   "source": [
    "#!python.exe -m pip install --upgrade pip\n",
    "#!pip install scikit-learn \n",
    "!pip install imblearn"
   ]
  },
  {
   "cell_type": "code",
   "execution_count": 34,
   "id": "32c044ec-1450-4bde-9952-0ab439fb64f2",
   "metadata": {},
   "outputs": [
    {
     "name": "stdout",
     "output_type": "stream",
     "text": [
      "Technique: Random Oversampling\n",
      "Accuracy: 0.9561\n",
      "F1 Score: 0.9383\n",
      "AUC: 0.9974\n",
      "------------------------------\n",
      "Technique: Random Undersampling\n",
      "Accuracy: 0.9649\n",
      "F1 Score: 0.9512\n",
      "AUC: 0.9977\n",
      "------------------------------\n",
      "Technique: SMOTE\n",
      "Accuracy: 0.9737\n",
      "F1 Score: 0.9630\n",
      "AUC: 0.9985\n",
      "------------------------------\n",
      "Technique: Tomek Links\n",
      "Accuracy: 0.9649\n",
      "F1 Score: 0.9512\n",
      "AUC: 0.9947\n",
      "------------------------------\n",
      "Technique: Class Weighting\n",
      "Accuracy: 0.9737\n",
      "F1 Score: 0.9630\n",
      "AUC: 0.9965\n",
      "------------------------------\n"
     ]
    }
   ],
   "source": [
    "import pandas as pd\n",
    "import numpy as np\n",
    "data =pd.read_csv('data.csv')\n",
    "data['diagnosis'].value_counts()\n",
    "data\n",
    "# Importing necessary libraries\n",
    "import pandas as pd\n",
    "from sklearn.model_selection import train_test_split\n",
    "from sklearn.preprocessing import LabelEncoder\n",
    "from sklearn.ensemble import RandomForestClassifier\n",
    "from sklearn.metrics import accuracy_score, f1_score, roc_auc_score\n",
    "from imblearn.over_sampling import SMOTE, RandomOverSampler\n",
    "from imblearn.under_sampling import RandomUnderSampler, TomekLinks\n",
    "\n",
    "# Load the dataset\n",
    "data = pd.read_csv('data.csv')\n",
    "data\n",
    "# Prepare the data\n",
    "X = data.drop(columns=['id', 'diagnosis', 'Unnamed: 32'])\n",
    "y = LabelEncoder().fit_transform(data['diagnosis'])  # Encode labels: B=0, M=1\n",
    "\n",
    "# Split the dataset into training and testing sets\n",
    "X_train, X_test, y_train, y_test = train_test_split(X, y, test_size=0.2, random_state=42, stratify=y)\n",
    "# Initialize the random forest classifier\n",
    "model = RandomForestClassifier(random_state=42)\n",
    "\n",
    "# Dictionary to store results for each sampling technique\n",
    "results = {}\n",
    "# Function to train and evaluate the model\n",
    "def evaluate_model(X_train_res, y_train_res, technique_name):\n",
    "    model.fit(X_train_res, y_train_res)\n",
    "    y_pred = model.predict(X_test)\n",
    "    y_pred_proba = model.predict_proba(X_test)[:, 1]\n",
    "    \n",
    "    accuracy = accuracy_score(y_test, y_pred)\n",
    "    f1 = f1_score(y_test, y_pred)\n",
    "    auc = roc_auc_score(y_test, y_pred_proba)\n",
    "    \n",
    "    results[technique_name] = {'Accuracy': accuracy, 'F1 Score': f1, 'AUC': auc}\n",
    "# 1. Random Oversampling\n",
    "ros = RandomOverSampler(random_state=42)\n",
    "X_resampled_ros, y_resampled_ros = ros.fit_resample(X_train, y_train)\n",
    "evaluate_model(X_resampled_ros, y_resampled_ros, \"Random Oversampling\")\n",
    "\n",
    "# 2. Random Undersampling\n",
    "rus = RandomUnderSampler(random_state=42)\n",
    "X_resampled_rus, y_resampled_rus = rus.fit_resample(X_train, y_train)\n",
    "evaluate_model(X_resampled_rus, y_resampled_rus, \"Random Undersampling\")\n",
    "X_train\n",
    "\n",
    "# 3. SMOTE\n",
    "smote = SMOTE(random_state=42)\n",
    "X_resampled_smote, y_resampled_smote = smote.fit_resample(X_train, y_train)\n",
    "evaluate_model(X_resampled_smote, y_resampled_smote, \"SMOTE\")\n",
    "\n",
    "# 4. Tomek Links\n",
    "tomek = TomekLinks()\n",
    "X_resampled_tomek, y_resampled_tomek = tomek.fit_resample(X_train, y_train)\n",
    "evaluate_model(X_resampled_tomek, y_resampled_tomek, \"Tomek Links\")\n",
    "\n",
    "# 5. Class Weighting (no resampling, but using class weights in the model)\n",
    "model_weighted = RandomForestClassifier(random_state=42, class_weight='balanced')\n",
    "model_weighted.fit(X_train, y_train)\n",
    "y_pred_weighted = model_weighted.predict(X_test)\n",
    "y_pred_proba_weighted = model_weighted.predict_proba(X_test)[:, 1]\n",
    "\n",
    "accuracy_weighted = accuracy_score(y_test, y_pred_weighted)\n",
    "f1_weighted = f1_score(y_test, y_pred_weighted)\n",
    "auc_weighted = roc_auc_score(y_test, y_pred_proba_weighted)\n",
    "\n",
    "results[\"Class Weighting\"] = {'Accuracy': accuracy_weighted, 'F1 Score': f1_weighted, 'AUC': auc_weighted}\n",
    "\n",
    "# Display the results\n",
    "for technique, metrics in results.items():\n",
    "    print(f\"Technique: {technique}\")\n",
    "    for metric, score in metrics.items():\n",
    "        print(f\"{metric}: {score:.4f}\")\n",
    "    print(\"-\" * 30)"
   ]
  },
  {
   "cell_type": "code",
   "execution_count": null,
   "id": "64415fad-0018-4b2f-95d4-4caa2e23cdbf",
   "metadata": {},
   "outputs": [],
   "source": []
  }
 ],
 "metadata": {
  "kernelspec": {
   "display_name": "Python 3 (ipykernel)",
   "language": "python",
   "name": "python3"
  },
  "language_info": {
   "codemirror_mode": {
    "name": "ipython",
    "version": 3
   },
   "file_extension": ".py",
   "mimetype": "text/x-python",
   "name": "python",
   "nbconvert_exporter": "python",
   "pygments_lexer": "ipython3",
   "version": "3.12.1"
  }
 },
 "nbformat": 4,
 "nbformat_minor": 5
}
